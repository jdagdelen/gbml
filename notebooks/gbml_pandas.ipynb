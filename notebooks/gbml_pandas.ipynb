{
 "cells": [
  {
   "cell_type": "markdown",
   "metadata": {},
   "source": [
    "# GBML-Pandas demo.\n",
    "\n",
    "Creates descriptor dataframe using the data fetched from materialsproject database and use gbml to make predictions.\n",
    "This is a simplified translation of gbml/elasticity.py.\n",
    "\n",
    "Require: pandas package\n",
    "\n",
    "Author: Kiran Mathew"
   ]
  },
  {
   "cell_type": "code",
   "execution_count": 1,
   "metadata": {
    "collapsed": false
   },
   "outputs": [],
   "source": [
    "import os\n",
    "import json\n",
    "from collections import defaultdict\n",
    "\n",
    "import numpy as np\n",
    "\n",
    "import pandas as pd\n",
    "\n",
    "from pymatgen.core.periodic_table import Element\n",
    "from pymatgen.core.composition import Composition\n",
    "from pymatgen.ext.matproj import MPRester\n",
    "\n",
    "import gbml"
   ]
  },
  {
   "cell_type": "markdown",
   "metadata": {},
   "source": [
    "Read the data file containing the \"atom in a box\" energy for the elements"
   ]
  },
  {
   "cell_type": "code",
   "execution_count": 2,
   "metadata": {
    "collapsed": false
   },
   "outputs": [],
   "source": [
    "DATAFILE_AIAB = os.path.join(os.path.dirname(gbml.__file__), \"data\", \"element_aiab_energy.json\")\n",
    "\n",
    "aiab_energy_dict = {}\n",
    "try:\n",
    "    with open(DATAFILE_AIAB,'r') as json_file:\n",
    "            aiab_energy_dict = json.load(json_file)\n",
    "except:\n",
    "    print \"failed to open the data file\""
   ]
  },
  {
   "cell_type": "code",
   "execution_count": 3,
   "metadata": {
    "collapsed": true
   },
   "outputs": [],
   "source": [
    "def holder_mean(x, w, p):\n",
    "    \"\"\"\n",
    "    generalized mean\n",
    "    \"\"\"\n",
    "    return np.power(np.dot(w, np.power(x, p)), 1./p)\n",
    "\n",
    "def get_aiab_energy(element):\n",
    "    \"\"\"\n",
    "    return atom in a box energy for the given element\n",
    "    \"\"\"\n",
    "    d = aiab_energy_dict.get(str(element), None)\n",
    "    if d:\n",
    "        return d[0]\n",
    "    return None\n",
    "\n",
    "def append_data(df, d, axis=1):\n",
    "    \"\"\"\n",
    "    concatenate the given data to the DataFrame along the specified axis\n",
    "    \n",
    "    Args:\n",
    "        df (DataFrame): input DataFrame\n",
    "        d (dict): data to be appended as dict. The keys become the column names\n",
    "        axis (int): concat direction\n",
    "    \"\"\"\n",
    "    df2 = pd.DataFrame(d, index=df.index)\n",
    "    return pd.concat([df, df2], axis=axis)"
   ]
  },
  {
   "cell_type": "markdown",
   "metadata": {},
   "source": [
    "Get the raw data from materials project database and convert to pandas DataFrame."
   ]
  },
  {
   "cell_type": "code",
   "execution_count": 4,
   "metadata": {
    "collapsed": false
   },
   "outputs": [
    {
     "data": {
      "text/html": [
       "<div>\n",
       "<table border=\"1\" class=\"dataframe\">\n",
       "  <thead>\n",
       "    <tr style=\"text-align: right;\">\n",
       "      <th></th>\n",
       "      <th>energy_per_atom</th>\n",
       "      <th>nsites</th>\n",
       "      <th>pretty_formula</th>\n",
       "      <th>volume</th>\n",
       "    </tr>\n",
       "  </thead>\n",
       "  <tbody>\n",
       "    <tr>\n",
       "      <th>mp-10003</th>\n",
       "      <td>-9.174498</td>\n",
       "      <td>12</td>\n",
       "      <td>Nb4CoSi</td>\n",
       "      <td>194.512816</td>\n",
       "    </tr>\n",
       "    <tr>\n",
       "      <th>mp-10010</th>\n",
       "      <td>-6.300609</td>\n",
       "      <td>5</td>\n",
       "      <td>Al(CoSi)2</td>\n",
       "      <td>61.957195</td>\n",
       "    </tr>\n",
       "    <tr>\n",
       "      <th>mp-10015</th>\n",
       "      <td>-8.660260</td>\n",
       "      <td>2</td>\n",
       "      <td>SiOs</td>\n",
       "      <td>25.915606</td>\n",
       "    </tr>\n",
       "    <tr>\n",
       "      <th>mp-10021</th>\n",
       "      <td>-4.093110</td>\n",
       "      <td>1</td>\n",
       "      <td>Ac</td>\n",
       "      <td>45.384620</td>\n",
       "    </tr>\n",
       "    <tr>\n",
       "      <th>mp-26</th>\n",
       "      <td>-3.026048</td>\n",
       "      <td>2</td>\n",
       "      <td>Ga</td>\n",
       "      <td>38.007666</td>\n",
       "    </tr>\n",
       "    <tr>\n",
       "      <th>mp-10018</th>\n",
       "      <td>-6.709620</td>\n",
       "      <td>14</td>\n",
       "      <td>Fe3O4</td>\n",
       "      <td>155.341182</td>\n",
       "    </tr>\n",
       "    <tr>\n",
       "      <th>mp-19306</th>\n",
       "      <td>-4.925772</td>\n",
       "      <td>4</td>\n",
       "      <td>La</td>\n",
       "      <td>148.597860</td>\n",
       "    </tr>\n",
       "  </tbody>\n",
       "</table>\n",
       "</div>"
      ],
      "text/plain": [
       "          energy_per_atom  nsites pretty_formula      volume\n",
       "mp-10003        -9.174498      12        Nb4CoSi  194.512816\n",
       "mp-10010        -6.300609       5      Al(CoSi)2   61.957195\n",
       "mp-10015        -8.660260       2           SiOs   25.915606\n",
       "mp-10021        -4.093110       1             Ac   45.384620\n",
       "mp-26           -3.026048       2             Ga   38.007666\n",
       "mp-10018        -6.709620      14          Fe3O4  155.341182\n",
       "mp-19306        -4.925772       4             La  148.597860"
      ]
     },
     "execution_count": 4,
     "metadata": {},
     "output_type": "execute_result"
    }
   ],
   "source": [
    "mpids = [\"mp-10003\",\"mp-10010\",\"mp-10015\",\"mp-10021\",\"mp-26\",\"mp-10018\",\"mp-19306\"]\n",
    "properties=[\"pretty_formula\", \"nsites\", \"volume\", \"energy_per_atom\"]\n",
    "\n",
    "data = defaultdict(list)\n",
    "\n",
    "MAPI_KEY = os.environ.get(\"MAPI_KEY\", \"\")\n",
    "with MPRester(MAPI_KEY) as mpr:\n",
    "    for entry in mpr.query(criteria={\"task_id\": {\"$in\": mpids}}, properties=properties):\n",
    "        for p in properties:\n",
    "            data[p].append(entry[p])\n",
    "            \n",
    "df = pd.DataFrame(data, index=mpids)\n",
    "df.head(20)"
   ]
  },
  {
   "cell_type": "markdown",
   "metadata": {},
   "source": [
    "Add processed data(average electroneagtivity, average rows etc) to the DataFrame"
   ]
  },
  {
   "cell_type": "code",
   "execution_count": 5,
   "metadata": {
    "collapsed": false
   },
   "outputs": [
    {
     "data": {
      "text/html": [
       "<div>\n",
       "<table border=\"1\" class=\"dataframe\">\n",
       "  <thead>\n",
       "    <tr style=\"text-align: right;\">\n",
       "      <th></th>\n",
       "      <th>energy_per_atom</th>\n",
       "      <th>nsites</th>\n",
       "      <th>pretty_formula</th>\n",
       "      <th>volume</th>\n",
       "      <th>X_avg</th>\n",
       "      <th>reference_energy</th>\n",
       "      <th>rows_avg</th>\n",
       "    </tr>\n",
       "  </thead>\n",
       "  <tbody>\n",
       "    <tr>\n",
       "      <th>mp-10003</th>\n",
       "      <td>-9.174498</td>\n",
       "      <td>12</td>\n",
       "      <td>Nb4CoSi</td>\n",
       "      <td>194.512816</td>\n",
       "      <td>4.034238</td>\n",
       "      <td>-2.567305</td>\n",
       "      <td>4.500000</td>\n",
       "    </tr>\n",
       "    <tr>\n",
       "      <th>mp-10010</th>\n",
       "      <td>-6.300609</td>\n",
       "      <td>5</td>\n",
       "      <td>Al(CoSi)2</td>\n",
       "      <td>61.957195</td>\n",
       "      <td>3.249399</td>\n",
       "      <td>-1.154403</td>\n",
       "      <td>3.400000</td>\n",
       "    </tr>\n",
       "    <tr>\n",
       "      <th>mp-10015</th>\n",
       "      <td>-8.660260</td>\n",
       "      <td>2</td>\n",
       "      <td>SiOs</td>\n",
       "      <td>25.915606</td>\n",
       "      <td>3.513958</td>\n",
       "      <td>-1.867150</td>\n",
       "      <td>4.500000</td>\n",
       "    </tr>\n",
       "    <tr>\n",
       "      <th>mp-10021</th>\n",
       "      <td>-4.093110</td>\n",
       "      <td>1</td>\n",
       "      <td>Ac</td>\n",
       "      <td>45.384620</td>\n",
       "      <td>9.000000</td>\n",
       "      <td>-0.075384</td>\n",
       "      <td>9.000000</td>\n",
       "    </tr>\n",
       "    <tr>\n",
       "      <th>mp-26</th>\n",
       "      <td>-3.026048</td>\n",
       "      <td>2</td>\n",
       "      <td>Ga</td>\n",
       "      <td>38.007666</td>\n",
       "      <td>4.000000</td>\n",
       "      <td>-0.341093</td>\n",
       "      <td>4.000000</td>\n",
       "    </tr>\n",
       "    <tr>\n",
       "      <th>mp-10018</th>\n",
       "      <td>-6.709620</td>\n",
       "      <td>14</td>\n",
       "      <td>Fe3O4</td>\n",
       "      <td>155.341182</td>\n",
       "      <td>2.274133</td>\n",
       "      <td>-2.428358</td>\n",
       "      <td>2.857143</td>\n",
       "    </tr>\n",
       "    <tr>\n",
       "      <th>mp-19306</th>\n",
       "      <td>-4.925772</td>\n",
       "      <td>4</td>\n",
       "      <td>La</td>\n",
       "      <td>148.597860</td>\n",
       "      <td>8.000000</td>\n",
       "      <td>-0.691017</td>\n",
       "      <td>8.000000</td>\n",
       "    </tr>\n",
       "  </tbody>\n",
       "</table>\n",
       "</div>"
      ],
      "text/plain": [
       "          energy_per_atom  nsites pretty_formula      volume     X_avg  \\\n",
       "mp-10003        -9.174498      12        Nb4CoSi  194.512816  4.034238   \n",
       "mp-10010        -6.300609       5      Al(CoSi)2   61.957195  3.249399   \n",
       "mp-10015        -8.660260       2           SiOs   25.915606  3.513958   \n",
       "mp-10021        -4.093110       1             Ac   45.384620  9.000000   \n",
       "mp-26           -3.026048       2             Ga   38.007666  4.000000   \n",
       "mp-10018        -6.709620      14          Fe3O4  155.341182  2.274133   \n",
       "mp-19306        -4.925772       4             La  148.597860  8.000000   \n",
       "\n",
       "          reference_energy  rows_avg  \n",
       "mp-10003         -2.567305  4.500000  \n",
       "mp-10010         -1.154403  3.400000  \n",
       "mp-10015         -1.867150  4.500000  \n",
       "mp-10021         -0.075384  9.000000  \n",
       "mp-26            -0.341093  4.000000  \n",
       "mp-10018         -2.428358  2.857143  \n",
       "mp-19306         -0.691017  8.000000  "
      ]
     },
     "execution_count": 5,
     "metadata": {},
     "output_type": "execute_result"
    }
   ],
   "source": [
    "d =defaultdict(list)\n",
    "\n",
    "for formula in df.pretty_formula:\n",
    "    comp = Composition(formula)\n",
    "    rows = []\n",
    "    el_negs = []\n",
    "    weights = []\n",
    "    energies = []\n",
    "    for el in comp:\n",
    "        rows.append(el.row)\n",
    "        el_negs.append(el.X)\n",
    "        weights.append(comp.get_atomic_fraction(el))\n",
    "        energies.append(get_aiab_energy(el))\n",
    "    d[\"rows_avg\"].append(holder_mean(rows, weights, 1.0))\n",
    "    d[\"X_avg\"].append(holder_mean(rows, weights, -4.0))\n",
    "    d[\"reference_energy\"].append(np.average(energies, weights=weights))\n",
    "    \n",
    "df = append_data(df, d)\n",
    "df.head(20)"
   ]
  },
  {
   "cell_type": "markdown",
   "metadata": {},
   "source": [
    "Pre-process volume and energy data"
   ]
  },
  {
   "cell_type": "code",
   "execution_count": 6,
   "metadata": {
    "collapsed": false
   },
   "outputs": [
    {
     "data": {
      "text/html": [
       "<div>\n",
       "<table border=\"1\" class=\"dataframe\">\n",
       "  <thead>\n",
       "    <tr style=\"text-align: right;\">\n",
       "      <th></th>\n",
       "      <th>energy_per_atom</th>\n",
       "      <th>nsites</th>\n",
       "      <th>pretty_formula</th>\n",
       "      <th>volume</th>\n",
       "      <th>X_avg</th>\n",
       "      <th>reference_energy</th>\n",
       "      <th>rows_avg</th>\n",
       "      <th>log_volume_per_atom</th>\n",
       "    </tr>\n",
       "  </thead>\n",
       "  <tbody>\n",
       "    <tr>\n",
       "      <th>mp-10003</th>\n",
       "      <td>-6.607193</td>\n",
       "      <td>12</td>\n",
       "      <td>Nb4CoSi</td>\n",
       "      <td>194.512816</td>\n",
       "      <td>4.034238</td>\n",
       "      <td>-2.567305</td>\n",
       "      <td>4.500000</td>\n",
       "      <td>1.209767</td>\n",
       "    </tr>\n",
       "    <tr>\n",
       "      <th>mp-10010</th>\n",
       "      <td>-5.146206</td>\n",
       "      <td>5</td>\n",
       "      <td>Al(CoSi)2</td>\n",
       "      <td>61.957195</td>\n",
       "      <td>3.249399</td>\n",
       "      <td>-1.154403</td>\n",
       "      <td>3.400000</td>\n",
       "      <td>1.093122</td>\n",
       "    </tr>\n",
       "    <tr>\n",
       "      <th>mp-10015</th>\n",
       "      <td>-6.793110</td>\n",
       "      <td>2</td>\n",
       "      <td>SiOs</td>\n",
       "      <td>25.915606</td>\n",
       "      <td>3.513958</td>\n",
       "      <td>-1.867150</td>\n",
       "      <td>4.500000</td>\n",
       "      <td>1.112531</td>\n",
       "    </tr>\n",
       "    <tr>\n",
       "      <th>mp-10021</th>\n",
       "      <td>-4.017725</td>\n",
       "      <td>1</td>\n",
       "      <td>Ac</td>\n",
       "      <td>45.384620</td>\n",
       "      <td>9.000000</td>\n",
       "      <td>-0.075384</td>\n",
       "      <td>9.000000</td>\n",
       "      <td>1.656909</td>\n",
       "    </tr>\n",
       "    <tr>\n",
       "      <th>mp-26</th>\n",
       "      <td>-2.684955</td>\n",
       "      <td>2</td>\n",
       "      <td>Ga</td>\n",
       "      <td>38.007666</td>\n",
       "      <td>4.000000</td>\n",
       "      <td>-0.341093</td>\n",
       "      <td>4.000000</td>\n",
       "      <td>1.278841</td>\n",
       "    </tr>\n",
       "    <tr>\n",
       "      <th>mp-10018</th>\n",
       "      <td>-4.281262</td>\n",
       "      <td>14</td>\n",
       "      <td>Fe3O4</td>\n",
       "      <td>155.341182</td>\n",
       "      <td>2.274133</td>\n",
       "      <td>-2.428358</td>\n",
       "      <td>2.857143</td>\n",
       "      <td>1.045159</td>\n",
       "    </tr>\n",
       "    <tr>\n",
       "      <th>mp-19306</th>\n",
       "      <td>-4.234755</td>\n",
       "      <td>4</td>\n",
       "      <td>La</td>\n",
       "      <td>148.597860</td>\n",
       "      <td>8.000000</td>\n",
       "      <td>-0.691017</td>\n",
       "      <td>8.000000</td>\n",
       "      <td>1.569953</td>\n",
       "    </tr>\n",
       "  </tbody>\n",
       "</table>\n",
       "</div>"
      ],
      "text/plain": [
       "          energy_per_atom  nsites pretty_formula      volume     X_avg  \\\n",
       "mp-10003        -6.607193      12        Nb4CoSi  194.512816  4.034238   \n",
       "mp-10010        -5.146206       5      Al(CoSi)2   61.957195  3.249399   \n",
       "mp-10015        -6.793110       2           SiOs   25.915606  3.513958   \n",
       "mp-10021        -4.017725       1             Ac   45.384620  9.000000   \n",
       "mp-26           -2.684955       2             Ga   38.007666  4.000000   \n",
       "mp-10018        -4.281262      14          Fe3O4  155.341182  2.274133   \n",
       "mp-19306        -4.234755       4             La  148.597860  8.000000   \n",
       "\n",
       "          reference_energy  rows_avg  log_volume_per_atom  \n",
       "mp-10003         -2.567305  4.500000             1.209767  \n",
       "mp-10010         -1.154403  3.400000             1.093122  \n",
       "mp-10015         -1.867150  4.500000             1.112531  \n",
       "mp-10021         -0.075384  9.000000             1.656909  \n",
       "mp-26            -0.341093  4.000000             1.278841  \n",
       "mp-10018         -2.428358  2.857143             1.045159  \n",
       "mp-19306         -0.691017  8.000000             1.569953  "
      ]
     },
     "execution_count": 6,
     "metadata": {},
     "output_type": "execute_result"
    }
   ],
   "source": [
    "df[\"log_volume_per_atom\"] = np.log10(df.volume/df.nsites)\n",
    "df[\"energy_per_atom\"] = df.energy_per_atom - df.reference_energy\n",
    "df.head(20)"
   ]
  },
  {
   "cell_type": "markdown",
   "metadata": {},
   "source": [
    "Drop columns that are not needed"
   ]
  },
  {
   "cell_type": "code",
   "execution_count": 7,
   "metadata": {
    "collapsed": false
   },
   "outputs": [
    {
     "data": {
      "text/html": [
       "<div>\n",
       "<table border=\"1\" class=\"dataframe\">\n",
       "  <thead>\n",
       "    <tr style=\"text-align: right;\">\n",
       "      <th></th>\n",
       "      <th>energy_per_atom</th>\n",
       "      <th>X_avg</th>\n",
       "      <th>rows_avg</th>\n",
       "      <th>log_volume_per_atom</th>\n",
       "    </tr>\n",
       "  </thead>\n",
       "  <tbody>\n",
       "    <tr>\n",
       "      <th>mp-10003</th>\n",
       "      <td>-6.607193</td>\n",
       "      <td>4.034238</td>\n",
       "      <td>4.500000</td>\n",
       "      <td>1.209767</td>\n",
       "    </tr>\n",
       "    <tr>\n",
       "      <th>mp-10010</th>\n",
       "      <td>-5.146206</td>\n",
       "      <td>3.249399</td>\n",
       "      <td>3.400000</td>\n",
       "      <td>1.093122</td>\n",
       "    </tr>\n",
       "    <tr>\n",
       "      <th>mp-10015</th>\n",
       "      <td>-6.793110</td>\n",
       "      <td>3.513958</td>\n",
       "      <td>4.500000</td>\n",
       "      <td>1.112531</td>\n",
       "    </tr>\n",
       "    <tr>\n",
       "      <th>mp-10021</th>\n",
       "      <td>-4.017725</td>\n",
       "      <td>9.000000</td>\n",
       "      <td>9.000000</td>\n",
       "      <td>1.656909</td>\n",
       "    </tr>\n",
       "    <tr>\n",
       "      <th>mp-26</th>\n",
       "      <td>-2.684955</td>\n",
       "      <td>4.000000</td>\n",
       "      <td>4.000000</td>\n",
       "      <td>1.278841</td>\n",
       "    </tr>\n",
       "    <tr>\n",
       "      <th>mp-10018</th>\n",
       "      <td>-4.281262</td>\n",
       "      <td>2.274133</td>\n",
       "      <td>2.857143</td>\n",
       "      <td>1.045159</td>\n",
       "    </tr>\n",
       "    <tr>\n",
       "      <th>mp-19306</th>\n",
       "      <td>-4.234755</td>\n",
       "      <td>8.000000</td>\n",
       "      <td>8.000000</td>\n",
       "      <td>1.569953</td>\n",
       "    </tr>\n",
       "  </tbody>\n",
       "</table>\n",
       "</div>"
      ],
      "text/plain": [
       "          energy_per_atom     X_avg  rows_avg  log_volume_per_atom\n",
       "mp-10003        -6.607193  4.034238  4.500000             1.209767\n",
       "mp-10010        -5.146206  3.249399  3.400000             1.093122\n",
       "mp-10015        -6.793110  3.513958  4.500000             1.112531\n",
       "mp-10021        -4.017725  9.000000  9.000000             1.656909\n",
       "mp-26           -2.684955  4.000000  4.000000             1.278841\n",
       "mp-10018        -4.281262  2.274133  2.857143             1.045159\n",
       "mp-19306        -4.234755  8.000000  8.000000             1.569953"
      ]
     },
     "execution_count": 7,
     "metadata": {},
     "output_type": "execute_result"
    }
   ],
   "source": [
    "df.drop([\"pretty_formula\",\"volume\", \"nsites\", \"reference_energy\"], axis=1, inplace=True)\n",
    "df.head(20)"
   ]
  },
  {
   "cell_type": "code",
   "execution_count": 8,
   "metadata": {
    "collapsed": false
   },
   "outputs": [
    {
     "name": "stdout",
     "output_type": "stream",
     "text": [
      "['energy_per_atom', 'X_avg', 'rows_avg', 'log_volume_per_atom']\n"
     ]
    }
   ],
   "source": [
    "cols = df.columns.tolist()\n",
    "print(cols)"
   ]
  },
  {
   "cell_type": "markdown",
   "metadata": {},
   "source": [
    "Rearrange the columns"
   ]
  },
  {
   "cell_type": "code",
   "execution_count": 9,
   "metadata": {
    "collapsed": false
   },
   "outputs": [
    {
     "data": {
      "text/html": [
       "<div>\n",
       "<table border=\"1\" class=\"dataframe\">\n",
       "  <thead>\n",
       "    <tr style=\"text-align: right;\">\n",
       "      <th></th>\n",
       "      <th>log_volume_per_atom</th>\n",
       "      <th>rows_avg</th>\n",
       "      <th>energy_per_atom</th>\n",
       "      <th>X_avg</th>\n",
       "    </tr>\n",
       "  </thead>\n",
       "  <tbody>\n",
       "    <tr>\n",
       "      <th>mp-10003</th>\n",
       "      <td>1.209767</td>\n",
       "      <td>4.500000</td>\n",
       "      <td>-6.607193</td>\n",
       "      <td>4.034238</td>\n",
       "    </tr>\n",
       "    <tr>\n",
       "      <th>mp-10010</th>\n",
       "      <td>1.093122</td>\n",
       "      <td>3.400000</td>\n",
       "      <td>-5.146206</td>\n",
       "      <td>3.249399</td>\n",
       "    </tr>\n",
       "    <tr>\n",
       "      <th>mp-10015</th>\n",
       "      <td>1.112531</td>\n",
       "      <td>4.500000</td>\n",
       "      <td>-6.793110</td>\n",
       "      <td>3.513958</td>\n",
       "    </tr>\n",
       "    <tr>\n",
       "      <th>mp-10021</th>\n",
       "      <td>1.656909</td>\n",
       "      <td>9.000000</td>\n",
       "      <td>-4.017725</td>\n",
       "      <td>9.000000</td>\n",
       "    </tr>\n",
       "    <tr>\n",
       "      <th>mp-26</th>\n",
       "      <td>1.278841</td>\n",
       "      <td>4.000000</td>\n",
       "      <td>-2.684955</td>\n",
       "      <td>4.000000</td>\n",
       "    </tr>\n",
       "    <tr>\n",
       "      <th>mp-10018</th>\n",
       "      <td>1.045159</td>\n",
       "      <td>2.857143</td>\n",
       "      <td>-4.281262</td>\n",
       "      <td>2.274133</td>\n",
       "    </tr>\n",
       "    <tr>\n",
       "      <th>mp-19306</th>\n",
       "      <td>1.569953</td>\n",
       "      <td>8.000000</td>\n",
       "      <td>-4.234755</td>\n",
       "      <td>8.000000</td>\n",
       "    </tr>\n",
       "  </tbody>\n",
       "</table>\n",
       "</div>"
      ],
      "text/plain": [
       "          log_volume_per_atom  rows_avg  energy_per_atom     X_avg\n",
       "mp-10003             1.209767  4.500000        -6.607193  4.034238\n",
       "mp-10010             1.093122  3.400000        -5.146206  3.249399\n",
       "mp-10015             1.112531  4.500000        -6.793110  3.513958\n",
       "mp-10021             1.656909  9.000000        -4.017725  9.000000\n",
       "mp-26                1.278841  4.000000        -2.684955  4.000000\n",
       "mp-10018             1.045159  2.857143        -4.281262  2.274133\n",
       "mp-19306             1.569953  8.000000        -4.234755  8.000000"
      ]
     },
     "execution_count": 9,
     "metadata": {},
     "output_type": "execute_result"
    }
   ],
   "source": [
    "cols = [cols[3], cols[2], cols[0], cols[1] ]\n",
    "df = df[cols]\n",
    "df.head(20)"
   ]
  },
  {
   "cell_type": "markdown",
   "metadata": {},
   "source": [
    "Use the python interface to the gbml library to make predictions"
   ]
  },
  {
   "cell_type": "code",
   "execution_count": 10,
   "metadata": {
    "collapsed": false
   },
   "outputs": [
    {
     "name": "stdout",
     "output_type": "stream",
     "text": [
      "[158.55828155096452, 128.85790396876027, 256.8286476414063, 26.070192490354323, 34.19468644815877, 134.74407265598936, 37.774659850972974]\n"
     ]
    }
   ],
   "source": [
    "import gbml.core\n",
    "\n",
    "num_predictions = len(mpids)\n",
    "k_descriptors = df.values\n",
    "\n",
    "k_predictions = np.empty(num_predictions)\n",
    "\n",
    "# Make predictions\n",
    "k_filename = os.path.join(os.path.dirname(gbml.__file__), \"data\", \"gbml-K-v1.00.data\")\n",
    "gbml.core.predict(k_filename, num_predictions, k_descriptors, k_predictions)\n",
    "\n",
    "k_list = np.power(10.0, k_predictions).tolist()\n",
    "print k_list"
   ]
  }
 ],
 "metadata": {
  "kernelspec": {
   "display_name": "Python 2",
   "language": "python",
   "name": "python2"
  },
  "language_info": {
   "codemirror_mode": {
    "name": "ipython",
    "version": 2
   },
   "file_extension": ".py",
   "mimetype": "text/x-python",
   "name": "python",
   "nbconvert_exporter": "python",
   "pygments_lexer": "ipython2",
   "version": "2.7.10"
  }
 },
 "nbformat": 4,
 "nbformat_minor": 0
}
